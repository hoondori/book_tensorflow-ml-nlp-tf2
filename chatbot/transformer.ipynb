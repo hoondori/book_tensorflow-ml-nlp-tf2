{
 "cells": [
  {
   "cell_type": "markdown",
   "metadata": {},
   "source": [
    "# Transformer 모델 기반 ChatBot "
   ]
  },
  {
   "cell_type": "code",
   "execution_count": 53,
   "metadata": {},
   "outputs": [],
   "source": [
    "import tensorflow as tf\n",
    "import numpy as np\n",
    "\n",
    "from konlpy.tag import Twitter\n",
    "import pandas as pd\n",
    "import tensorflow as tf\n",
    "import enum\n",
    "import os\n",
    "import re\n",
    "import json\n",
    "from sklearn.model_selection import train_test_split\n",
    "\n",
    "from tensorflow.keras.callbacks import EarlyStopping, ModelCheckpoint\n",
    "import matplotlib.pyplot as plt"
   ]
  },
  {
   "cell_type": "markdown",
   "metadata": {},
   "source": [
    "# 파일 로드"
   ]
  },
  {
   "cell_type": "code",
   "execution_count": 55,
   "metadata": {},
   "outputs": [],
   "source": [
    "\n",
    "DATA_IN_PATH = './'\n",
    "DATA_OUT_PATH = './train_out/'\n",
    "TRAIN_INPUTS = 'train_inputs.npy'\n",
    "TRAIN_OUTPUTS = 'train_outputs.npy'\n",
    "TRAIN_TARGETS = 'train_targets.npy'\n",
    "DATA_CONFIGS = 'data_configs.json'\n",
    "\n",
    "index_inputs = np.load(open(DATA_IN_PATH + TRAIN_INPUTS, 'rb'))\n",
    "index_outputs = np.load(open(DATA_IN_PATH + TRAIN_OUTPUTS , 'rb'))\n",
    "index_targets = np.load(open(DATA_IN_PATH + TRAIN_TARGETS , 'rb'))\n",
    "prepro_configs = json.load(open(DATA_IN_PATH + DATA_CONFIGS, 'r'))"
   ]
  },
  {
   "cell_type": "markdown",
   "metadata": {},
   "source": [
    "## 하이퍼파라미터 정의"
   ]
  },
  {
   "cell_type": "code",
   "execution_count": 56,
   "metadata": {},
   "outputs": [],
   "source": [
    "char2idx = prepro_configs['word2idx']\n",
    "end_index = prepro_configs['end_symbol']\n",
    "model_name = 'transformer'\n",
    "vocab_size = prepro_configs['vocab_size']\n",
    "BATCH_SIZE = 2\n",
    "MAX_SEQUENCE = 25\n",
    "EPOCHS = 30\n",
    "VALID_SPLIT = 0.1\n",
    "\n",
    "kargs = {'model_name': model_name,\n",
    "         'num_layers': 2,\n",
    "         'd_model': 512,\n",
    "         'num_heads': 8,\n",
    "         'dff': 2048,\n",
    "         'input_vocab_size': vocab_size,\n",
    "         'target_vocab_size': vocab_size,\n",
    "         'maximum_position_encoding': MAX_SEQUENCE,\n",
    "         'end_token_idx': char2idx[end_index],\n",
    "         'rate': 0.1\n",
    "        }"
   ]
  },
  {
   "cell_type": "markdown",
   "metadata": {},
   "source": [
    "# 모델 "
   ]
  },
  {
   "cell_type": "markdown",
   "metadata": {},
   "source": [
    "## 패딩 및 포워드 마스킹"
   ]
  },
  {
   "cell_type": "code",
   "execution_count": 57,
   "metadata": {},
   "outputs": [],
   "source": [
    "def create_padding_mask(seq):\n",
    "    # (batch_size, seq_len)\n",
    "    seq = tf.cast(tf.math.equal(seq, 0), tf.float32)\n",
    "    \n",
    "    # add extra dimentions to add the padding to the attention logits\n",
    "    return seq[:, tf.newaxis, tf.newaxis, :]  # (batch_size, 1, 1, seq_len)\n",
    "\n",
    "def create_lookahead_mask(size):\n",
    "    mask = 1 - tf.linalg.band_part(tf.ones((size, size)), -1, 0)\n",
    "    return mask  # (seq_len, seq_len)    \n",
    "\n",
    "def create_masks(inp, tar):\n",
    "    \n",
    "    enc_padding_mask = create_padding_mask(inp)\n",
    "    \n",
    "    # used in decoder's cross attention part\n",
    "    # for mask the encoder outputs\n",
    "    dec_padding_mask = create_padding_mask(inp)\n",
    "    \n",
    "    # Used in the 1st self-attention block in the decoder.\n",
    "    # It is used to pad and mask future tokens in the input received by \n",
    "    # the decoder.    \n",
    "    lookahead_mask = create_lookahead_mask(tf.shape(tar)[1])\n",
    "    dec_target_padding_mask = create_padding_mask(tar)\n",
    "    combined_mask = tf.maximum(dec_target_padding_mask, lookahead_mask)\n",
    "    \n",
    "    # enc_padding_mask, dec_padding_mask: (batch_size, 1, 1, seq_len)\n",
    "    # combined_mask: (batch_size, 1, seq_len, seq_len)\n",
    "    return enc_padding_mask, combined_mask, dec_padding_mask\n",
    "    "
   ]
  },
  {
   "cell_type": "markdown",
   "metadata": {},
   "source": [
    "##  내적 연산 어텐션"
   ]
  },
  {
   "cell_type": "code",
   "execution_count": 71,
   "metadata": {},
   "outputs": [],
   "source": [
    "def scaled_dot_product_attention(q, k, v, mask):\n",
    "    \n",
    "    matmul_qk = tf.matmul(q, k, transpose_b=True)\n",
    "    \n",
    "    dk = tf.cast(tf.shape(k)[-1], tf.float32)\n",
    "    scaled_attention_logits = matmul_qk / tf.math.sqrt(dk)\n",
    "    \n",
    "    if mask is not None:\n",
    "        scaled_attention_logits += (mask * -1e9)\n",
    "    \n",
    "    attention_weights = tf.nn.softmax(scaled_attention_logits, axis=-1)\n",
    "    output = tf.matmul(attention_weights, v)\n",
    "    \n",
    "    return output, attention_weights"
   ]
  },
  {
   "cell_type": "markdown",
   "metadata": {},
   "source": [
    "## 멀티헤드 어텐션"
   ]
  },
  {
   "cell_type": "code",
   "execution_count": 72,
   "metadata": {},
   "outputs": [],
   "source": [
    "class MultiHeadAttention(tf.keras.layers.Layer):\n",
    "    \n",
    "    def __init__(self, **kargs):\n",
    "        super(MultiHeadAttention, self).__init__()\n",
    "        self.num_heads = kargs['num_heads']\n",
    "        self.d_model = kargs['d_model']\n",
    "        \n",
    "        assert self.d_model % self.num_heads == 0\n",
    "        \n",
    "        self.depth = self.d_model // self.num_heads\n",
    "        \n",
    "        self.wq = tf.keras.layers.Dense(kargs['d_model'])\n",
    "        self.wk = tf.keras.layers.Dense(kargs['d_model'])\n",
    "        self.wv = tf.keras.layers.Dense(kargs['d_model'])\n",
    "        \n",
    "        self.dense = tf.keras.layers.Dense(kargs['d_model'])\n",
    "        \n",
    "    def split_heads(self, x, batch_size):\n",
    "        # x: (batch_size, seq_len, d_model) -> (batch_size, seq_len, num_heads, depth)\n",
    "        x = tf.reshape(x, (batch_size, -1, self.num_heads, self.depth))\n",
    "        \n",
    "        # return: (batch_size, num_heads, seq_len, depth)\n",
    "        return tf.transpose(x, perm=[0, 2, 1, 3])\n",
    "        \n",
    "    def call(self, v, k, q, mask):\n",
    "        batch_size = tf.shape(q)[0]\n",
    "        \n",
    "        q = self.wq(q)  # (batch_size, seq_len, d_model)\n",
    "        k = self.wq(k)  # (batch_size, seq_len, d_model)\n",
    "        v = self.wq(v)  # (batch_size, seq_len, d_model)\n",
    "        \n",
    "        q = self.split_heads(q, batch_size)   # (batch_size, num_heads, seq_len, depth)\n",
    "        k = self.split_heads(k, batch_size)   # (batch_size, num_heads, seq_len, depth)\n",
    "        v = self.split_heads(v, batch_size)   # (batch_size, num_heads, seq_len, depth)\n",
    "        \n",
    "        \n",
    "        # scaled_attention: (batch_size, num_heads, seq_len, depth)\n",
    "        scaled_attention, attention_weights = scaled_dot_product_attention(q, k, v, mask)\n",
    "        \n",
    "        # scaled_attention: (batch_size, seq_len, num_heads, depth)\n",
    "        scaled_attention = tf.transpose(scaled_attention, perm=[0, 2, 1, 3])\n",
    "        \n",
    "        # concat_attention: (batch_size, seq_len, d_model)\n",
    "        concat_attention = tf.reshape(scaled_attention, (batch_size, -1, self.d_model))\n",
    "        \n",
    "        # output: (batch_size, seq_len, d_model)\n",
    "        output = self.dense(concat_attention)\n",
    "        \n",
    "        return output, attention_weights\n",
    "        \n",
    "        \n",
    "        "
   ]
  },
  {
   "cell_type": "markdown",
   "metadata": {},
   "source": [
    "## Point-wise FF\n",
    "\n",
    "* 각 단어 토큰 벡터 각각에 대해 연산"
   ]
  },
  {
   "cell_type": "code",
   "execution_count": 73,
   "metadata": {},
   "outputs": [],
   "source": [
    "def point_wise_feed_forward_network(**kargs):\n",
    "    return tf.keras.Sequential([\n",
    "        tf.keras.layers.Dense(kargs['dff'], activation='relu'), # (batch_size, seq_len, dff)\n",
    "        tf.keras.layers.Dense(kargs['d_model']) # (batch_size, seq_len, d_model)\n",
    "    ])"
   ]
  },
  {
   "cell_type": "markdown",
   "metadata": {},
   "source": [
    "## 포지셔널 인코딩"
   ]
  },
  {
   "cell_type": "code",
   "execution_count": 74,
   "metadata": {},
   "outputs": [],
   "source": [
    "def get_angles(pos, i, d_model):\n",
    "    angle_rates = 1 / np.power(10000, (2*i//2)/np.float32(d_model))\n",
    "    return pos * angle_rates"
   ]
  },
  {
   "cell_type": "code",
   "execution_count": 75,
   "metadata": {},
   "outputs": [],
   "source": [
    "def positional_encoding(position, d_model):\n",
    "    # (maximum_position_encoding, d_model)\n",
    "    angle_rads = get_angles(np.arange(position)[:, np.newaxis], np.arange(d_model)[np.newaxis, :], d_model)\n",
    "    \n",
    "    angle_rads[:, 0::2] = np.sin(angle_rads[:, 0::2])\n",
    "    angle_rads[:, 1::2] = np.cos(angle_rads[:, 1::2])\n",
    "    \n",
    "    # (1, maximum_position_encoding, d_model)\n",
    "    pos_encoding = angle_rads[np.newaxis, ...]\n",
    "    \n",
    "    return tf.cast(pos_encoding, dtype=tf.float32)"
   ]
  },
  {
   "cell_type": "code",
   "execution_count": 76,
   "metadata": {},
   "outputs": [
    {
     "name": "stdout",
     "output_type": "stream",
     "text": [
      "(1, 50, 512)\n"
     ]
    },
    {
     "data": {
      "image/png": "[encoded data removed]",
      "text/plain": [
       "<Figure size 432x288 with 2 Axes>"
      ]
     },
     "metadata": {
      "needs_background": "light"
     },
     "output_type": "display_data"
    }
   ],
   "source": [
    "pos_encoding = positional_encoding(50, 512)\n",
    "print(pos_encoding.shape)\n",
    "\n",
    "plt.pcolormesh(pos_encoding[0], cmap='RdBu')\n",
    "plt.xlabel('Depth')\n",
    "plt.xlim((0, 512))\n",
    "plt.ylabel('Position')\n",
    "plt.colorbar()\n",
    "plt.show()"
   ]
  },
  {
   "cell_type": "markdown",
   "metadata": {},
   "source": [
    "## 인코더"
   ]
  },
  {
   "cell_type": "code",
   "execution_count": 77,
   "metadata": {},
   "outputs": [],
   "source": [
    "class EncoderLayer(tf.keras.layers.Layer):\n",
    "    \"positional encoding  더한 이후 block\"\n",
    "    \n",
    "    def __init__(self, **kargs):\n",
    "        super(EncoderLayer, self).__init__()\n",
    "\n",
    "        self.mha = MultiHeadAttention(**kargs)\n",
    "        self.ffn = point_wise_feed_forward_network(**kargs)\n",
    "\n",
    "        self.layernorm1 = tf.keras.layers.LayerNormalization(epsilon=1e-6)\n",
    "        self.layernorm2 = tf.keras.layers.LayerNormalization(epsilon=1e-6)\n",
    "\n",
    "        self.dropout1 = tf.keras.layers.Dropout(kargs['rate'])\n",
    "        self.dropout2 = tf.keras.layers.Dropout(kargs['rate'])\n",
    "    \n",
    "    def call(self, x, mask):\n",
    "        \n",
    "        attn_output, _ = self.mha(x, x, x, mask) # (batch_size, seq_len, d_model)\n",
    "        attn_output = self.dropout1(attn_output) \n",
    "        out1 = self.layernorm1(x + attn_output) # (batch_size, seq_len, d_model)\n",
    "        \n",
    "        ffn_output = self.ffn(out1) # (batch_size, seq_len, d_model)\n",
    "        ffn_output = self.dropout2(ffn_output)\n",
    "        out2 = self.layernorm2(out1 + ffn_output) # (batch_size, seq_len, d_model)\n",
    "        \n",
    "        return out2\n",
    "\n",
    "class Encoder(tf.keras.layers.Layer):\n",
    "    def __init__(self, **kargs):\n",
    "        super(Encoder, self).__init__()\n",
    "\n",
    "        self.d_model = kargs['d_model']\n",
    "        self.num_layers = kargs['num_layers']\n",
    "\n",
    "        self.embedding = tf.keras.layers.Embedding(kargs['input_vocab_size'], self.d_model)\n",
    "        self.pos_encoding = positional_encoding(kargs['maximum_position_encoding'], \n",
    "                                                self.d_model)\n",
    "\n",
    "\n",
    "        self.enc_layers = [EncoderLayer(**kargs) \n",
    "                           for _ in range(self.num_layers)]\n",
    "\n",
    "        self.dropout = tf.keras.layers.Dropout(kargs['rate'])\n",
    "        \n",
    "    def call(self, x, mask):\n",
    "        \n",
    "        seq_len = tf.shape(x)[1]\n",
    "        \n",
    "        x = self.embedding(x)   # (batch_size, seq_len, d_model)\n",
    "        x *= tf.math.sqrt(tf.cast(self.d_model, tf.float32))\n",
    "        x += self.pos_encoding[:, :seq_len, :]\n",
    "        \n",
    "        x = self.dropout(x)\n",
    "        \n",
    "        # encoder block을 수회 반복한다. \n",
    "        for i in range(self.num_layers):\n",
    "            x = self.enc_layers[i](x, mask)\n",
    "            \n",
    "        return x # (batch_size, seq_len, d_model)\n",
    "        "
   ]
  },
  {
   "cell_type": "markdown",
   "metadata": {},
   "source": [
    "## 디코더"
   ]
  },
  {
   "cell_type": "code",
   "execution_count": 104,
   "metadata": {},
   "outputs": [],
   "source": [
    "\n",
    "class DecoderLayer(tf.keras.layers.Layer):\n",
    "    def __init__(self, **kargs):\n",
    "        super(DecoderLayer, self).__init__()\n",
    "\n",
    "        self.mha1 = MultiHeadAttention(**kargs)  # self-attention\n",
    "        self.mha2 = MultiHeadAttention(**kargs)  # cross-attention\n",
    "\n",
    "        self.ffn = point_wise_feed_forward_network(**kargs)\n",
    "\n",
    "        self.layernorm1 = tf.keras.layers.LayerNormalization(epsilon=1e-6)\n",
    "        self.layernorm2 = tf.keras.layers.LayerNormalization(epsilon=1e-6)\n",
    "        self.layernorm3 = tf.keras.layers.LayerNormalization(epsilon=1e-6)\n",
    "\n",
    "        self.dropout1 = tf.keras.layers.Dropout(kargs['rate'])\n",
    "        self.dropout2 = tf.keras.layers.Dropout(kargs['rate'])\n",
    "        self.dropout3 = tf.keras.layers.Dropout(kargs['rate'])\n",
    "    \n",
    "    def call(self, x, enc_output, lookahead_mask, padding_mask):\n",
    "        # enc_output: (batch_size, seq_len, d_model)\n",
    "        \n",
    "        attn1, attn_weights_block1 = self.mha1(x, x, x, lookahead_mask) # (batch_size, target_seq_len, d_model)\n",
    "        attn1 = self.dropout1(attn1)\n",
    "        out1 = self.layernorm1(attn1 + x)\n",
    "        \n",
    "        # attn2: (batch_size, target_seq_len, d_model)\n",
    "        attn2, attn_weights_block2 = self.mha2(enc_output, enc_output, out1, padding_mask)\n",
    "        attn2 = self.dropout2(attn2)\n",
    "        out2 = self.layernorm2(attn2+out1)\n",
    "        \n",
    "        ffn_output = self.ffn(out2)  # (batch_size, target_seq_len, d_model)\n",
    "        ffn_output = self.dropout3(ffn_output)\n",
    "        out3 = self.layernorm3(ffn_output + out2)  # (batch_size, target_seq_len, d_model)\n",
    "\n",
    "        return out3, attn_weights_block1, attn_weights_block2        \n",
    "        \n",
    "class Decoder(tf.keras.layers.Layer):\n",
    "    def __init__(self, **kargs):\n",
    "        super(Decoder, self).__init__()\n",
    "\n",
    "        self.d_model = kargs['d_model']\n",
    "        self.num_layers = kargs['num_layers']\n",
    "\n",
    "        self.embedding = tf.keras.layers.Embedding(kargs['target_vocab_size'], self.d_model)\n",
    "        self.pos_encoding = positional_encoding(kargs['maximum_position_encoding'], self.d_model)\n",
    "\n",
    "        self.dec_layers = [DecoderLayer(**kargs) \n",
    "                           for _ in range(self.num_layers)]\n",
    "        self.dropout = tf.keras.layers.Dropout(kargs['rate'])\n",
    "        \n",
    "    def call(self, x, enc_output, lookahead_mask, padding_mask):\n",
    "    \n",
    "        seq_len = tf.shape(x)[1]\n",
    "        attention_weights = {}\n",
    "        \n",
    "        x = self.embedding(x)\n",
    "        x *= tf.math.sqrt(tf.cast(self.d_model, tf.float32))\n",
    "        x += self.pos_encoding[:, :seq_len, :]\n",
    "        \n",
    "        for i in range(self.num_layers):\n",
    "            x, block1, block2 = self.dec_layers[i](x, enc_output, lookahead_mask, padding_mask)\n",
    "        \n",
    "            attention_weights['decoder_layer{}_block1'.format(i+1)] = block1\n",
    "            attention_weights['decoder_layer{}_block2'.format(i+1)] = block2\n",
    "        \n",
    "        # x: (batch_size, target_seq_len, d_model)        \n",
    "        return x, attention_weights"
   ]
  },
  {
   "cell_type": "markdown",
   "metadata": {},
   "source": [
    "## 트랜스포머 모델"
   ]
  },
  {
   "cell_type": "code",
   "execution_count": 110,
   "metadata": {},
   "outputs": [],
   "source": [
    "class Transformer(tf.keras.Model):\n",
    "    def __init__(self, **kargs):\n",
    "        super(Transformer, self).__init__(name=kargs['model_name'])\n",
    "        self.end_token_idx = kargs['end_token_idx']\n",
    "        \n",
    "        self.encoder = Encoder(**kargs)\n",
    "        self.decoder = Decoder(**kargs)\n",
    "\n",
    "        self.final_layer = tf.keras.layers.Dense(kargs['target_vocab_size'])\n",
    "        \n",
    "    def call(self, x):\n",
    "        inp, tar = x\n",
    "        \n",
    "        enc_padding_mask, lookahead_mask, dec_padding_mask = create_masks(inp, tar)\n",
    "        enc_output = self.encoder(inp, enc_padding_mask)\n",
    "        \n",
    "        dec_output, _ = self.decoder(tar, enc_output, lookahead_mask, dec_padding_mask)\n",
    "        \n",
    "        final_output = self.final_layer(dec_output)\n",
    "        \n",
    "        return final_output\n",
    "    \n",
    "    def inference(self, x):\n",
    "        inp = x\n",
    "        tar = tf.expand_dims([STD_INDEX], 0)\n",
    "        \n",
    "        enc_padding_mask, lookahead_mask, dec_padding_mask = create_masks(inp, tar)\n",
    "        enc_output = self.encoder(inp, enc_padding_mask)\n",
    "        \n",
    "        predict_tokens = list()\n",
    "        for t in range(0, MAX_SEQUENCE):\n",
    "            dec_output, _ = self.decoder(tar, enc_output, lookahead_mask, dec_padding_mask)\n",
    "            final_output = self.final_layer(dec_output)\n",
    "            \n",
    "            outputs = tf.argmax(final_output, -1).numpy()\n",
    "            pred_token = outputs[0][-1]\n",
    "            if pred_token == self.end_token_idx:\n",
    "                break\n",
    "            predict_tokens.append(pred_token)\n",
    "            \n",
    "            tar = tf.expand_dims([STD_INDEX] + predict_tokens, 0)\n",
    "            _, look_ahead_mask, dec_padding_mask = create_masks(inp, tar)\n",
    "            \n",
    "        return predict_tokens\n",
    "            "
   ]
  },
  {
   "cell_type": "markdown",
   "metadata": {},
   "source": [
    "## loss 정의"
   ]
  },
  {
   "cell_type": "code",
   "execution_count": 115,
   "metadata": {},
   "outputs": [],
   "source": [
    "loss_object = tf.keras.losses.SparseCategoricalCrossentropy(\n",
    "    from_logits=True, reduction='none')\n",
    "\n",
    "train_accuracy = tf.keras.metrics.SparseCategoricalAccuracy(name='accuracy')\n",
    "\n",
    "def loss(real, pred):\n",
    "    mask = tf.math.logical_not(tf.math.equal(real, 0))\n",
    "    loss_ = loss_object(real, pred)\n",
    "\n",
    "    mask = tf.cast(mask, dtype=loss_.dtype)\n",
    "    loss_ *= mask\n",
    "\n",
    "    return tf.reduce_mean(loss_)\n",
    "\n",
    "def accuracy(real, pred):\n",
    "    mask = tf.math.logical_not(tf.math.equal(real, 0))\n",
    "    mask = tf.expand_dims(tf.cast(mask, dtype=pred.dtype), axis=-1)\n",
    "    pred *= mask    \n",
    "    acc = train_accuracy(real, pred)\n",
    "\n",
    "    return tf.reduce_mean(acc)"
   ]
  },
  {
   "cell_type": "code",
   "execution_count": 116,
   "metadata": {},
   "outputs": [],
   "source": [
    "model = Transformer(**kargs)\n",
    "model.compile(optimizer=tf.keras.optimizers.Adam(1e-4),\n",
    "              loss=loss,\n",
    "              metrics=[accuracy])"
   ]
  },
  {
   "cell_type": "markdown",
   "metadata": {},
   "source": [
    "## Callback 선언"
   ]
  },
  {
   "cell_type": "code",
   "execution_count": 117,
   "metadata": {},
   "outputs": [
    {
     "name": "stdout",
     "output_type": "stream",
     "text": [
      "./train_out/transformer -- Folder already exists \n",
      "\n"
     ]
    }
   ],
   "source": [
    "# overfitting을 막기 위한 ealrystop 추가\n",
    "earlystop_callback = EarlyStopping(monitor='val_accuracy', min_delta=0.0001, patience=10)\n",
    "# min_delta: the threshold that triggers the termination (acc should at least improve 0.0001)\n",
    "# patience: no improvment epochs (patience = 1, 1번 이상 상승이 없으면 종료)\n",
    "\n",
    "checkpoint_path = DATA_OUT_PATH + model_name + '/weights.h5'\n",
    "checkpoint_dir = os.path.dirname(checkpoint_path)\n",
    "\n",
    "# Create path if exists\n",
    "if os.path.exists(checkpoint_dir):\n",
    "    print(\"{} -- Folder already exists \\n\".format(checkpoint_dir))\n",
    "else:\n",
    "    os.makedirs(checkpoint_dir, exist_ok=True)\n",
    "    print(\"{} -- Folder create complete \\n\".format(checkpoint_dir))\n",
    "    \n",
    "\n",
    "cp_callback = ModelCheckpoint(\n",
    "    checkpoint_path, monitor='val_accuracy', verbose=1, save_best_only=True, save_weights_only=True)"
   ]
  },
  {
   "cell_type": "code",
   "execution_count": null,
   "metadata": {},
   "outputs": [
    {
     "name": "stdout",
     "output_type": "stream",
     "text": [
      "Epoch 1/30\n",
      "45/45 [==============================] - ETA: 0s - loss: 1.4505 - accuracy: 0.8529\n",
      "Epoch 00001: val_accuracy improved from -inf to 0.85180, saving model to ./train_out/transformer/weights.h5\n",
      "45/45 [==============================] - 5s 118ms/step - loss: 1.4505 - accuracy: 0.8529 - val_loss: 1.1900 - val_accuracy: 0.8518\n",
      "Epoch 2/30\n",
      "45/45 [==============================] - ETA: 0s - loss: 1.2069 - accuracy: 0.8515\n",
      "Epoch 00002: val_accuracy did not improve from 0.85180\n",
      "45/45 [==============================] - 5s 102ms/step - loss: 1.2069 - accuracy: 0.8515 - val_loss: 1.1792 - val_accuracy: 0.8512\n",
      "Epoch 3/30\n",
      "45/45 [==============================] - ETA: 0s - loss: 1.0004 - accuracy: 0.8515\n",
      "Epoch 00003: val_accuracy did not improve from 0.85180\n",
      "45/45 [==============================] - 5s 104ms/step - loss: 1.0004 - accuracy: 0.8515 - val_loss: 1.2051 - val_accuracy: 0.8509\n",
      "Epoch 4/30\n",
      "45/45 [==============================] - ETA: 0s - loss: 0.8438 - accuracy: 0.8521\n",
      "Epoch 00004: val_accuracy improved from 0.85180 to 0.85214, saving model to ./train_out/transformer/weights.h5\n",
      "45/45 [==============================] - 5s 116ms/step - loss: 0.8438 - accuracy: 0.8521 - val_loss: 1.2068 - val_accuracy: 0.8521\n",
      "Epoch 5/30\n",
      "45/45 [==============================] - ETA: 0s - loss: 0.7215 - accuracy: 0.8543\n",
      "Epoch 00005: val_accuracy improved from 0.85214 to 0.85646, saving model to ./train_out/transformer/weights.h5\n",
      "45/45 [==============================] - 5s 116ms/step - loss: 0.7215 - accuracy: 0.8543 - val_loss: 1.2355 - val_accuracy: 0.8565\n",
      "Epoch 6/30\n",
      "45/45 [==============================] - ETA: 0s - loss: 0.6128 - accuracy: 0.8598\n",
      "Epoch 00006: val_accuracy improved from 0.85646 to 0.86298, saving model to ./train_out/transformer/weights.h5\n",
      "45/45 [==============================] - 5s 116ms/step - loss: 0.6128 - accuracy: 0.8598 - val_loss: 1.2511 - val_accuracy: 0.8630\n",
      "Epoch 7/30\n",
      "45/45 [==============================] - ETA: 0s - loss: 0.5222 - accuracy: 0.8664\n",
      "Epoch 00007: val_accuracy improved from 0.86298 to 0.86966, saving model to ./train_out/transformer/weights.h5\n",
      "45/45 [==============================] - 5s 115ms/step - loss: 0.5222 - accuracy: 0.8664 - val_loss: 1.2679 - val_accuracy: 0.8697\n",
      "Epoch 8/30\n",
      "45/45 [==============================] - ETA: 0s - loss: 0.4425 - accuracy: 0.8738\n",
      "Epoch 00008: val_accuracy improved from 0.86966 to 0.87746, saving model to ./train_out/transformer/weights.h5\n",
      "45/45 [==============================] - 5s 116ms/step - loss: 0.4425 - accuracy: 0.8738 - val_loss: 1.2672 - val_accuracy: 0.8775\n",
      "Epoch 9/30\n",
      "45/45 [==============================] - ETA: 0s - loss: 0.3794 - accuracy: 0.8813\n",
      "Epoch 00009: val_accuracy improved from 0.87746 to 0.88475, saving model to ./train_out/transformer/weights.h5\n",
      "45/45 [==============================] - 5s 115ms/step - loss: 0.3794 - accuracy: 0.8813 - val_loss: 1.2629 - val_accuracy: 0.8847\n",
      "Epoch 10/30\n",
      "45/45 [==============================] - ETA: 0s - loss: 0.3191 - accuracy: 0.8880\n",
      "Epoch 00010: val_accuracy improved from 0.88475 to 0.89095, saving model to ./train_out/transformer/weights.h5\n",
      "45/45 [==============================] - 5s 115ms/step - loss: 0.3191 - accuracy: 0.8880 - val_loss: 1.2696 - val_accuracy: 0.8909\n",
      "Epoch 11/30\n",
      "45/45 [==============================] - ETA: 0s - loss: 0.2734 - accuracy: 0.8940\n",
      "Epoch 00011: val_accuracy improved from 0.89095 to 0.89675, saving model to ./train_out/transformer/weights.h5\n",
      "45/45 [==============================] - 5s 115ms/step - loss: 0.2734 - accuracy: 0.8940 - val_loss: 1.3092 - val_accuracy: 0.8967\n",
      "Epoch 12/30\n",
      "45/45 [==============================] - ETA: 0s - loss: 0.2326 - accuracy: 0.8994\n",
      "Epoch 00012: val_accuracy improved from 0.89675 to 0.90203, saving model to ./train_out/transformer/weights.h5\n",
      "45/45 [==============================] - 5s 115ms/step - loss: 0.2326 - accuracy: 0.8994 - val_loss: 1.3131 - val_accuracy: 0.9020\n",
      "Epoch 13/30\n",
      "45/45 [==============================] - ETA: 0s - loss: 0.1948 - accuracy: 0.9045\n",
      "Epoch 00013: val_accuracy improved from 0.90203 to 0.90691, saving model to ./train_out/transformer/weights.h5\n",
      "45/45 [==============================] - 5s 115ms/step - loss: 0.1948 - accuracy: 0.9045 - val_loss: 1.2743 - val_accuracy: 0.9069\n",
      "Epoch 14/30\n",
      "45/45 [==============================] - ETA: 0s - loss: 0.1627 - accuracy: 0.9093\n",
      "Epoch 00014: val_accuracy improved from 0.90691 to 0.91147, saving model to ./train_out/transformer/weights.h5\n",
      "45/45 [==============================] - 5s 114ms/step - loss: 0.1627 - accuracy: 0.9093 - val_loss: 1.3067 - val_accuracy: 0.9115\n",
      "Epoch 15/30\n",
      "45/45 [==============================] - ETA: 0s - loss: 0.1337 - accuracy: 0.9136\n",
      "Epoch 00015: val_accuracy improved from 0.91147 to 0.91566, saving model to ./train_out/transformer/weights.h5\n",
      "45/45 [==============================] - 5s 115ms/step - loss: 0.1337 - accuracy: 0.9136 - val_loss: 1.3329 - val_accuracy: 0.9157\n",
      "Epoch 16/30\n",
      "45/45 [==============================] - ETA: 0s - loss: 0.1130 - accuracy: 0.9177\n",
      "Epoch 00016: val_accuracy improved from 0.91566 to 0.91951, saving model to ./train_out/transformer/weights.h5\n",
      "45/45 [==============================] - 5s 115ms/step - loss: 0.1130 - accuracy: 0.9177 - val_loss: 1.3372 - val_accuracy: 0.9195\n",
      "Epoch 17/30\n",
      "45/45 [==============================] - ETA: 0s - loss: 0.0948 - accuracy: 0.9213\n",
      "Epoch 00017: val_accuracy improved from 0.91951 to 0.92294, saving model to ./train_out/transformer/weights.h5\n",
      "45/45 [==============================] - 5s 114ms/step - loss: 0.0948 - accuracy: 0.9213 - val_loss: 1.3604 - val_accuracy: 0.9229\n",
      "Epoch 18/30\n",
      "45/45 [==============================] - ETA: 0s - loss: 0.0781 - accuracy: 0.9246\n",
      "Epoch 00018: val_accuracy improved from 0.92294 to 0.92613, saving model to ./train_out/transformer/weights.h5\n",
      "45/45 [==============================] - 5s 114ms/step - loss: 0.0781 - accuracy: 0.9246 - val_loss: 1.3633 - val_accuracy: 0.9261\n",
      "Epoch 19/30\n",
      "45/45 [==============================] - ETA: 0s - loss: 0.0665 - accuracy: 0.9276\n",
      "Epoch 00019: val_accuracy improved from 0.92613 to 0.92901, saving model to ./train_out/transformer/weights.h5\n",
      "45/45 [==============================] - 5s 114ms/step - loss: 0.0665 - accuracy: 0.9276 - val_loss: 1.3899 - val_accuracy: 0.9290\n",
      "Epoch 20/30\n",
      "45/45 [==============================] - ETA: 0s - loss: 0.0559 - accuracy: 0.9304\n",
      "Epoch 00020: val_accuracy improved from 0.92901 to 0.93164, saving model to ./train_out/transformer/weights.h5\n",
      "45/45 [==============================] - 5s 114ms/step - loss: 0.0559 - accuracy: 0.9304 - val_loss: 1.3750 - val_accuracy: 0.9316\n",
      "Epoch 21/30\n",
      "45/45 [==============================] - ETA: 0s - loss: 0.0471 - accuracy: 0.9329\n",
      "Epoch 00021: val_accuracy improved from 0.93164 to 0.93410, saving model to ./train_out/transformer/weights.h5\n",
      "45/45 [==============================] - 5s 114ms/step - loss: 0.0471 - accuracy: 0.9329 - val_loss: 1.3749 - val_accuracy: 0.9341\n",
      "Epoch 22/30\n",
      "45/45 [==============================] - ETA: 0s - loss: 0.0395 - accuracy: 0.9352\n",
      "Epoch 00022: val_accuracy improved from 0.93410 to 0.93635, saving model to ./train_out/transformer/weights.h5\n",
      "45/45 [==============================] - 5s 115ms/step - loss: 0.0395 - accuracy: 0.9352 - val_loss: 1.3851 - val_accuracy: 0.9363\n",
      "Epoch 23/30\n",
      "45/45 [==============================] - ETA: 0s - loss: 0.0341 - accuracy: 0.9374\n",
      "Epoch 00023: val_accuracy improved from 0.93635 to 0.93842, saving model to ./train_out/transformer/weights.h5\n",
      "45/45 [==============================] - 5s 114ms/step - loss: 0.0341 - accuracy: 0.9374 - val_loss: 1.4030 - val_accuracy: 0.9384\n",
      "Epoch 24/30\n",
      "45/45 [==============================] - ETA: 0s - loss: 0.0290 - accuracy: 0.9394\n",
      "Epoch 00024: val_accuracy improved from 0.93842 to 0.94033, saving model to ./train_out/transformer/weights.h5\n",
      "45/45 [==============================] - 5s 115ms/step - loss: 0.0290 - accuracy: 0.9394 - val_loss: 1.4131 - val_accuracy: 0.9403\n",
      "Epoch 25/30\n",
      "27/45 [=================>............] - ETA: 1s - loss: 0.0273 - accuracy: 0.9408"
     ]
    }
   ],
   "source": [
    "EPOCHS = 30\n",
    "MAX_DATA = 100\n",
    "history = model.fit([index_inputs[:MAX_DATA], index_outputs[:MAX_DATA]], index_targets[:MAX_DATA], \n",
    "                    batch_size=BATCH_SIZE, epochs=EPOCHS,\n",
    "                    validation_split=VALID_SPLIT, callbacks=[earlystop_callback, cp_callback])"
   ]
  },
  {
   "cell_type": "code",
   "execution_count": null,
   "metadata": {},
   "outputs": [],
   "source": [
    "def plot_graphs(history, string):\n",
    "    plt.plot(history.history[string])\n",
    "    plt.plot(history.history['val_'+string], '')\n",
    "    plt.xlabel(\"Epochs\")\n",
    "    plt.ylabel(string)\n",
    "    plt.legend([string, 'val_'+string])\n",
    "    plt.show()"
   ]
  },
  {
   "cell_type": "code",
   "execution_count": null,
   "metadata": {},
   "outputs": [],
   "source": [
    "plot_graphs(history, 'accuracy')"
   ]
  },
  {
   "cell_type": "code",
   "execution_count": null,
   "metadata": {},
   "outputs": [],
   "source": [
    "plot_graphs(history, 'loss')"
   ]
  },
  {
   "cell_type": "code",
   "execution_count": null,
   "metadata": {},
   "outputs": [],
   "source": []
  }
 ],
 "metadata": {
  "kernelspec": {
   "display_name": "Python (ai)",
   "language": "python",
   "name": "ai"
  },
  "language_info": {
   "codemirror_mode": {
    "name": "ipython",
    "version": 3
   },
   "file_extension": ".py",
   "mimetype": "text/x-python",
   "name": "python",
   "nbconvert_exporter": "python",
   "pygments_lexer": "ipython3",
   "version": "3.6.12"
  },
  "toc": {
   "base_numbering": 1,
   "nav_menu": {},
   "number_sections": true,
   "sideBar": true,
   "skip_h1_title": false,
   "title_cell": "Table of Contents",
   "title_sidebar": "Contents",
   "toc_cell": false,
   "toc_position": {},
   "toc_section_display": true,
   "toc_window_display": false
  }
 },
 "nbformat": 4,
 "nbformat_minor": 4
}
