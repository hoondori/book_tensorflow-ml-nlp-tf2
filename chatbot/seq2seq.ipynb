{
 "cells": [
  {
   "cell_type": "markdown",
   "metadata": {},
   "source": [
    "# SEQ2SEQ 모델 기반 ChatBot 모델 학습"
   ]
  },
  {
   "cell_type": "code",
   "execution_count": 1,
   "metadata": {},
   "outputs": [],
   "source": [
    "import tensorflow as tf\n",
    "import numpy as np\n",
    "import os\n",
    "import json\n",
    "from tensorflow.keras.callbacks import EarlyStopping, ModelCheckpoint"
   ]
  },
  {
   "cell_type": "markdown",
   "metadata": {},
   "source": [
    "# 랜덤 시드 고정"
   ]
  },
  {
   "cell_type": "code",
   "execution_count": 2,
   "metadata": {},
   "outputs": [],
   "source": [
    "SEED = 1234\n",
    "tf.random.set_seed(SEED)"
   ]
  },
  {
   "cell_type": "markdown",
   "metadata": {},
   "source": [
    "# 학습 데이터 "
   ]
  },
  {
   "cell_type": "code",
   "execution_count": 3,
   "metadata": {},
   "outputs": [],
   "source": [
    "TRAIN_INPUTS = 'train_inputs.npy'\n",
    "TRAIN_OUTPUTS = 'train_outputs.npy'\n",
    "TRAIN_TARGETS = 'train_targets.npy'\n",
    "DATA_CONFIGS = 'data_configs.json'\n",
    "\n",
    "index_inputs = np.load(open(TRAIN_INPUTS, 'rb'))\n",
    "index_outputs = np.load(open(TRAIN_OUTPUTS , 'rb'))\n",
    "index_targets = np.load(open(TRAIN_TARGETS , 'rb'))\n",
    "prepro_configs = json.load(open(DATA_CONFIGS, 'r'))"
   ]
  },
  {
   "cell_type": "markdown",
   "metadata": {},
   "source": [
    "#  하이퍼 파라미터 "
   ]
  },
  {
   "cell_type": "code",
   "execution_count": 197,
   "metadata": {},
   "outputs": [],
   "source": [
    "MODEL_NAME = 'seq2seq_kor'\n",
    "BATCH_SIZE = 2\n",
    "MAX_SEQUENCE = 25\n",
    "UNITS = 1024\n",
    "EMBEDDING_DIM = 256\n",
    "VALIDATION_SPLIT = 0.1\n",
    "\n",
    "word2idx = prepro_configs['word2idx']\n",
    "idx2word = prepro_configs['idx2word']\n",
    "std_index = prepro_configs['std_symbol']\n",
    "end_index = prepro_configs['end_symbol']\n",
    "vocab_size = prepro_configs['vocab_size']"
   ]
  },
  {
   "cell_type": "markdown",
   "metadata": {},
   "source": [
    "# 모델"
   ]
  },
  {
   "cell_type": "markdown",
   "metadata": {},
   "source": [
    "## 인코더"
   ]
  },
  {
   "cell_type": "code",
   "execution_count": 199,
   "metadata": {},
   "outputs": [],
   "source": [
    "class Encoder(tf.keras.layers.Layer):\n",
    "    def __init__(self, vocab_size, embedding_dim, enc_units, batch_size):\n",
    "        super(Encoder, self).__init__()\n",
    "        self.batch_size = batch_size\n",
    "        self.enc_units = enc_units\n",
    "        self.vocab_size = vocab_size\n",
    "        self.embedding_dim = embedding_dim\n",
    "        \n",
    "        self.embedding = tf.keras.layers.Embedding(self.vocab_size, self.embedding_dim)\n",
    "        self.gru = tf.keras.layers.GRU(self.enc_units, \n",
    "                                       return_sequences=True, return_state=True,\n",
    "                                       recurrent_initializer='glorot_uniform')\n",
    "        \n",
    "    def call(self, x, hidden):\n",
    "        x = self.embedding(x)\n",
    "        output, state = self.gru(x, initial_state = hidden)\n",
    "        return output, state\n",
    "    \n",
    "    def initialize_hidden_state(self, inp):\n",
    "        return tf.zeros((tf.shape(inp)[0], self.enc_units))\n",
    "        "
   ]
  },
  {
   "cell_type": "markdown",
   "metadata": {},
   "source": [
    "## 어텐션"
   ]
  },
  {
   "cell_type": "code",
   "execution_count": 200,
   "metadata": {},
   "outputs": [],
   "source": [
    "class BahdanauAttention(tf.keras.layers.Layer):\n",
    "    def __init__(self, units):\n",
    "        super(BahdanauAttention, self).__init__()\n",
    "        self.W1 = tf.keras.layers.Dense(units)\n",
    "        self.W2 = tf.keras.layers.Dense(units)\n",
    "        self.V = tf.keras.layers.Dense(1)\n",
    "    \n",
    "    def call(self, query, values):\n",
    "        hidden_with_time_axis = tf.expand_dims(query, 1)  # (units, 1)\n",
    "        \n",
    "        # score: (batch_size, max_sequence, 1)\n",
    "        score = self.V(tf.nn.tanh(\n",
    "            self.W1(values) + self.W2(hidden_with_time_axis)))\n",
    "        \n",
    "        # attention_weights: (batch_size, max_sequence, 1)\n",
    "        attention_weights = tf.nn.softmax(score, axis=1)\n",
    "        \n",
    "        # context_vector: (batch_size, units)\n",
    "        context_vector = attention_weights * values\n",
    "        context_vector = tf.reduce_sum(context_vector, axis=1)\n",
    "        \n",
    "        return context_vector, attention_weights"
   ]
  },
  {
   "cell_type": "markdown",
   "metadata": {},
   "source": [
    "## 디코더"
   ]
  },
  {
   "cell_type": "code",
   "execution_count": 201,
   "metadata": {},
   "outputs": [],
   "source": [
    "class Decoder(tf.keras.layers.Layer):\n",
    "    def __init__(self, vocab_size, embedding_dim, dec_units, batch_size):\n",
    "        super(Decoder, self).__init__()\n",
    "        \n",
    "        self.batch_size = batch_size\n",
    "        self.dec_units = dec_units\n",
    "        self.vocab_size = vocab_size \n",
    "        self.embedding_dim = embedding_dim          \n",
    "        \n",
    "        self.embedding = tf.keras.layers.Embedding(self.vocab_size, self.embedding_dim)\n",
    "        self.gru = tf.keras.layers.GRU(self.dec_units, \n",
    "                                       return_sequences=True, return_state=True,\n",
    "                                       recurrent_initializer='glorot_uniform')        \n",
    "        \n",
    "        self.fc = tf.keras.layers.Dense(self.vocab_size)\n",
    "        self.attention = BahdanauAttention(self.dec_units)\n",
    "        \n",
    "    def call(self, x, hidden, enc_output):\n",
    "        \n",
    "        # x: (batch_size,)\n",
    "        # hidden : (batch_size, units)\n",
    "        # enc_output : (batch_size, max_sequence, units)\n",
    "                \n",
    "        # context_vector: (batch_size, units)   \n",
    "        context_vector, attention_weights = self.attention(hidden, enc_output)\n",
    "        \n",
    "        x = self.embedding(x) # (batch_size, embedding_dim)\n",
    "            \n",
    "        # concat of [batch_size, units] and [batch_size, embedding_dim]\n",
    "        #  ==> [batch_size, units+embedding_dim]\n",
    "        #x = tf.concat([tf.expand_dims(context_vector, 1), x], axis=-1)\n",
    "        x = tf.concat([context_vector, x], axis=1)\n",
    "        \n",
    "        # x: [batch_size, 1, units+embedding_dim] for GRU input\n",
    "        x = tf.expand_dims(x, axis=1)\n",
    "        \n",
    "        # output: (batch_size, 1, units)\n",
    "        # state : (batch_size, units)\n",
    "        output, state = self.gru(x)\n",
    "        \n",
    "        # predictions: (batch_size, vocab_size)\n",
    "        predictions = self.fc(tf.squeeze(output, axis=1)) \n",
    "        \n",
    "        return predictions, state, attention_weights\n",
    "    "
   ]
  },
  {
   "cell_type": "markdown",
   "metadata": {},
   "source": [
    "## 시퀀스 투 시퀀스 모델"
   ]
  },
  {
   "cell_type": "code",
   "execution_count": 241,
   "metadata": {},
   "outputs": [],
   "source": [
    "class seq2seq(tf.keras.Model):\n",
    "    def __init__(self, vocab_size, embedding_dim, enc_units, dec_units, batch_size, end_token_idx=2):    \n",
    "        super(seq2seq, self).__init__()\n",
    "        self.end_token_idx = end_token_idx\n",
    "        self.encoder = Encoder(vocab_size, embedding_dim, enc_units, batch_size) \n",
    "        self.decoder = Decoder(vocab_size, embedding_dim, dec_units, batch_size) \n",
    "        \n",
    "    def call(self,x):  # when training\n",
    "        # inp: (batch_size, max_sequence)\n",
    "        # tar: (batch_size, max_sequence)\n",
    "        inp, tar = x\n",
    "   \n",
    "        # enc_hidden : (batch_size, units)\n",
    "        # enc_output : (batch_size, max_sequencee, units)\n",
    "        enc_hidden = self.encoder.initialize_hidden_state(inp)\n",
    "        enc_output, enc_hidden = self.encoder(inp, enc_hidden)\n",
    "        \n",
    "        dec_hidden = enc_hidden\n",
    "        \n",
    "        predict_tokens = list()\n",
    "        for t in range(0, tar.shape[1]):\n",
    "            \n",
    "            # dec_input: (batch_size, )\n",
    "            dec_input = tf.dtypes.cast(tar[:, t], tf.float32)\n",
    "            \n",
    "            # prediction: (batch_size, vocab_size)\n",
    "            predictions, dec_hidden, _ = self.decoder(dec_input, dec_hidden, enc_output)\n",
    "            predict_tokens.append(predictions)\n",
    "        \n",
    "        # logits: (batch_size, max_len, vocab_size)\n",
    "        logits = tf.stack(predict_tokens, axis=1) \n",
    "\n",
    "        return logits\n",
    "    \n",
    "    def inference(self, x):\n",
    "        inp = x\n",
    "        \n",
    "        enc_hidden = self.encoder.initialize_hidden_state(inp)\n",
    "        enc_output, enc_hidden = self.encoder(inp, enc_hidden)\n",
    "        \n",
    "        # (batch_size=1, )\n",
    "        dec_input = tf.expand_dims([word2idx[std_index]],0)   # <SOS>\n",
    "        dec_hidden = enc_hidden\n",
    "        \n",
    "        predict_tokens = list()\n",
    "        for t in range(0, MAX_SEQUENCE):\n",
    "            predictions, dec_hidden, _ = self.decoder(dec_input, dec_hidden, enc_output)\n",
    "            predict_token = tf.argmax(predictions[0])  # choose single word\n",
    "            \n",
    "            if predict_token == self.end_token_idx:  # <END>\n",
    "                break\n",
    "                \n",
    "            predict_tokens.append(predict_token)\n",
    "            \n",
    "            # (batch_size=1, )\n",
    "            dec_input = tf.dtypes.cast(tf.expand_dims([predict_token], 0), tf.float32)\n",
    "            \n",
    "        return prediction_tokens\n",
    "        \n",
    "        \n",
    "    \n",
    "    "
   ]
  },
  {
   "cell_type": "code",
   "execution_count": 242,
   "metadata": {},
   "outputs": [],
   "source": [
    "\n",
    "# <PAD> 부분을 reduce_sum에 포함 안시키기 위해 loss 계산시에는 reduce를 안하고\n",
    "# 0부분을 mask out한 후에 reduce 한다.\n",
    "loss_object = tf.keras.losses.SparseCategoricalCrossentropy(from_logits=True, reduction='none')\n",
    "def loss(y_true, y_pred):\n",
    "    # y_true : (batch_size, )\n",
    "    # y_pred : (batch_size, nclass)\n",
    "    \n",
    "    mask = tf.logical_not(tf.equal(y_true, 0))\n",
    "    loss_ = loss_object(y_true, y_pred)\n",
    "    mask = tf.cast(mask, dtype=loss_.dtype)\n",
    "    loss_ *= mask\n",
    "    return tf.reduce_mean(loss_)\n",
    "\n",
    "\n",
    "train_accuracy = tf.keras.metrics.SparseCategoricalAccuracy(name='accuracy')\n",
    "def accuracy(y_true, y_pred):\n",
    "    # y_true : (batch_size, )\n",
    "    # y_pred : (batch_size, nclass)\n",
    "    \n",
    "    mask = tf.logical_not(tf.equal(y_true, 0))    \n",
    "    mask = tf.expand_dims(tf.cast(mask, dtype=y_pred.dtype), axis=-1) # (batch_size, 1)\n",
    "    y_pred *= mask\n",
    "    acc = train_accuracy(y_true, y_pred)\n",
    "    \n",
    "    return tf.reduce_mean(acc)\n",
    "    "
   ]
  },
  {
   "cell_type": "code",
   "execution_count": 243,
   "metadata": {},
   "outputs": [],
   "source": [
    "model = seq2seq(vocab_size, EMBEDDING_DIM, UNITS, UNITS, BATCH_SIZE, word2idx[end_index])\n",
    "model.compile(loss=loss, optimizer=tf.keras.optimizers.Adam(1e-3), metrics=[accuracy])\n",
    "#model.summary()"
   ]
  },
  {
   "cell_type": "markdown",
   "metadata": {},
   "source": [
    "# 학습 진행 "
   ]
  },
  {
   "cell_type": "code",
   "execution_count": 244,
   "metadata": {
    "scrolled": false
   },
   "outputs": [
    {
     "name": "stdout",
     "output_type": "stream",
     "text": [
      "Epoch 1/30\n",
      "45/45 [==============================] - ETA: 0s - loss: 1.4822 - accuracy: 0.8271\n",
      "Epoch 00001: val_accuracy improved from -inf to 0.84873, saving model to ./train_output/seq2seq_kor/weights.h5\n",
      "45/45 [==============================] - 8s 183ms/step - loss: 1.4822 - accuracy: 0.8271 - val_loss: 1.3456 - val_accuracy: 0.8487\n",
      "Epoch 2/30\n",
      "45/45 [==============================] - ETA: 0s - loss: 1.0151 - accuracy: 0.8463\n",
      "Epoch 00002: val_accuracy improved from 0.84873 to 0.84897, saving model to ./train_output/seq2seq_kor/weights.h5\n",
      "45/45 [==============================] - 6s 123ms/step - loss: 1.0151 - accuracy: 0.8463 - val_loss: 1.3925 - val_accuracy: 0.8490\n",
      "Epoch 3/30\n",
      "45/45 [==============================] - ETA: 0s - loss: 0.9383 - accuracy: 0.8478\n",
      "Epoch 00003: val_accuracy improved from 0.84897 to 0.84905, saving model to ./train_output/seq2seq_kor/weights.h5\n",
      "45/45 [==============================] - 6s 123ms/step - loss: 0.9383 - accuracy: 0.8478 - val_loss: 1.4688 - val_accuracy: 0.8491\n",
      "Epoch 4/30\n",
      "45/45 [==============================] - ETA: 0s - loss: 0.8668 - accuracy: 0.8479\n",
      "Epoch 00004: val_accuracy improved from 0.84905 to 0.84919, saving model to ./train_output/seq2seq_kor/weights.h5\n",
      "45/45 [==============================] - 6s 123ms/step - loss: 0.8668 - accuracy: 0.8479 - val_loss: 1.4711 - val_accuracy: 0.8492\n",
      "Epoch 5/30\n",
      "45/45 [==============================] - ETA: 0s - loss: 0.8121 - accuracy: 0.8477\n",
      "Epoch 00005: val_accuracy improved from 0.84919 to 0.84935, saving model to ./train_output/seq2seq_kor/weights.h5\n",
      "45/45 [==============================] - 6s 123ms/step - loss: 0.8121 - accuracy: 0.8477 - val_loss: 1.5654 - val_accuracy: 0.8494\n",
      "Epoch 6/30\n",
      "45/45 [==============================] - ETA: 0s - loss: 0.7654 - accuracy: 0.8498\n",
      "Epoch 00006: val_accuracy improved from 0.84935 to 0.84946, saving model to ./train_output/seq2seq_kor/weights.h5\n",
      "45/45 [==============================] - 6s 123ms/step - loss: 0.7654 - accuracy: 0.8498 - val_loss: 1.6609 - val_accuracy: 0.8495\n",
      "Epoch 7/30\n",
      "45/45 [==============================] - ETA: 0s - loss: 0.7185 - accuracy: 0.8503\n",
      "Epoch 00007: val_accuracy improved from 0.84946 to 0.84971, saving model to ./train_output/seq2seq_kor/weights.h5\n",
      "45/45 [==============================] - 6s 123ms/step - loss: 0.7185 - accuracy: 0.8503 - val_loss: 1.6908 - val_accuracy: 0.8497\n",
      "Epoch 8/30\n",
      "45/45 [==============================] - ETA: 0s - loss: 0.6988 - accuracy: 0.8498\n",
      "Epoch 00008: val_accuracy improved from 0.84971 to 0.85031, saving model to ./train_output/seq2seq_kor/weights.h5\n",
      "45/45 [==============================] - 6s 123ms/step - loss: 0.6988 - accuracy: 0.8498 - val_loss: 1.5127 - val_accuracy: 0.8503\n",
      "Epoch 9/30\n",
      "45/45 [==============================] - ETA: 0s - loss: 0.6487 - accuracy: 0.8506\n",
      "Epoch 00009: val_accuracy improved from 0.85031 to 0.85136, saving model to ./train_output/seq2seq_kor/weights.h5\n",
      "45/45 [==============================] - 6s 124ms/step - loss: 0.6487 - accuracy: 0.8506 - val_loss: 1.6052 - val_accuracy: 0.8514\n",
      "Epoch 10/30\n",
      "45/45 [==============================] - ETA: 0s - loss: 0.5842 - accuracy: 0.8525\n",
      "Epoch 00010: val_accuracy improved from 0.85136 to 0.85332, saving model to ./train_output/seq2seq_kor/weights.h5\n",
      "45/45 [==============================] - 6s 123ms/step - loss: 0.5842 - accuracy: 0.8525 - val_loss: 1.7011 - val_accuracy: 0.8533\n",
      "Epoch 11/30\n",
      "45/45 [==============================] - ETA: 0s - loss: 0.5297 - accuracy: 0.8545\n",
      "Epoch 00011: val_accuracy improved from 0.85332 to 0.85567, saving model to ./train_output/seq2seq_kor/weights.h5\n",
      "45/45 [==============================] - 6s 123ms/step - loss: 0.5297 - accuracy: 0.8545 - val_loss: 1.6365 - val_accuracy: 0.8557\n",
      "Epoch 12/30\n",
      "45/45 [==============================] - ETA: 0s - loss: 0.4521 - accuracy: 0.8572\n",
      "Epoch 00012: val_accuracy improved from 0.85567 to 0.85884, saving model to ./train_output/seq2seq_kor/weights.h5\n",
      "45/45 [==============================] - 6s 123ms/step - loss: 0.4521 - accuracy: 0.8572 - val_loss: 1.6176 - val_accuracy: 0.8588\n",
      "Epoch 13/30\n",
      "45/45 [==============================] - ETA: 0s - loss: 0.3917 - accuracy: 0.8607\n",
      "Epoch 00013: val_accuracy improved from 0.85884 to 0.86257, saving model to ./train_output/seq2seq_kor/weights.h5\n",
      "45/45 [==============================] - 6s 123ms/step - loss: 0.3917 - accuracy: 0.8607 - val_loss: 1.5717 - val_accuracy: 0.8626\n",
      "Epoch 14/30\n",
      "45/45 [==============================] - ETA: 0s - loss: 0.3170 - accuracy: 0.8646\n",
      "Epoch 00014: val_accuracy improved from 0.86257 to 0.86650, saving model to ./train_output/seq2seq_kor/weights.h5\n",
      "45/45 [==============================] - 6s 124ms/step - loss: 0.3170 - accuracy: 0.8646 - val_loss: 1.6634 - val_accuracy: 0.8665\n",
      "Epoch 15/30\n",
      "45/45 [==============================] - ETA: 0s - loss: 0.2676 - accuracy: 0.8685\n",
      "Epoch 00015: val_accuracy improved from 0.86650 to 0.87046, saving model to ./train_output/seq2seq_kor/weights.h5\n",
      "45/45 [==============================] - 6s 123ms/step - loss: 0.2676 - accuracy: 0.8685 - val_loss: 1.6753 - val_accuracy: 0.8705\n",
      "Epoch 16/30\n",
      "45/45 [==============================] - ETA: 0s - loss: 0.2391 - accuracy: 0.8725\n",
      "Epoch 00016: val_accuracy improved from 0.87046 to 0.87451, saving model to ./train_output/seq2seq_kor/weights.h5\n",
      "45/45 [==============================] - 6s 123ms/step - loss: 0.2391 - accuracy: 0.8725 - val_loss: 1.6936 - val_accuracy: 0.8745\n",
      "Epoch 17/30\n",
      "45/45 [==============================] - ETA: 0s - loss: 0.2049 - accuracy: 0.8767\n",
      "Epoch 00017: val_accuracy improved from 0.87451 to 0.87851, saving model to ./train_output/seq2seq_kor/weights.h5\n",
      "45/45 [==============================] - 6s 124ms/step - loss: 0.2049 - accuracy: 0.8767 - val_loss: 1.7172 - val_accuracy: 0.8785\n",
      "Epoch 18/30\n",
      "45/45 [==============================] - ETA: 0s - loss: 0.1789 - accuracy: 0.8804\n",
      "Epoch 00018: val_accuracy improved from 0.87851 to 0.88225, saving model to ./train_output/seq2seq_kor/weights.h5\n",
      "45/45 [==============================] - 6s 123ms/step - loss: 0.1789 - accuracy: 0.8804 - val_loss: 1.6918 - val_accuracy: 0.8822\n",
      "Epoch 19/30\n",
      "45/45 [==============================] - ETA: 0s - loss: 0.1641 - accuracy: 0.8840\n",
      "Epoch 00019: val_accuracy improved from 0.88225 to 0.88574, saving model to ./train_output/seq2seq_kor/weights.h5\n",
      "45/45 [==============================] - 6s 124ms/step - loss: 0.1641 - accuracy: 0.8840 - val_loss: 1.9185 - val_accuracy: 0.8857\n",
      "Epoch 20/30\n",
      "45/45 [==============================] - ETA: 0s - loss: 0.1665 - accuracy: 0.8873\n",
      "Epoch 00020: val_accuracy improved from 0.88574 to 0.88882, saving model to ./train_output/seq2seq_kor/weights.h5\n",
      "45/45 [==============================] - 6s 123ms/step - loss: 0.1665 - accuracy: 0.8873 - val_loss: 1.8917 - val_accuracy: 0.8888\n",
      "Epoch 21/30\n",
      "45/45 [==============================] - ETA: 0s - loss: 0.1474 - accuracy: 0.8903\n",
      "Epoch 00021: val_accuracy improved from 0.88882 to 0.89173, saving model to ./train_output/seq2seq_kor/weights.h5\n",
      "45/45 [==============================] - 6s 124ms/step - loss: 0.1474 - accuracy: 0.8903 - val_loss: 1.9010 - val_accuracy: 0.8917\n",
      "Epoch 22/30\n",
      "45/45 [==============================] - ETA: 0s - loss: 0.1365 - accuracy: 0.8931\n",
      "Epoch 00022: val_accuracy improved from 0.89173 to 0.89436, saving model to ./train_output/seq2seq_kor/weights.h5\n",
      "45/45 [==============================] - 6s 124ms/step - loss: 0.1365 - accuracy: 0.8931 - val_loss: 1.9158 - val_accuracy: 0.8944\n",
      "Epoch 23/30\n",
      "45/45 [==============================] - ETA: 0s - loss: 0.1284 - accuracy: 0.8957\n",
      "Epoch 00023: val_accuracy improved from 0.89436 to 0.89690, saving model to ./train_output/seq2seq_kor/weights.h5\n",
      "45/45 [==============================] - 6s 124ms/step - loss: 0.1284 - accuracy: 0.8957 - val_loss: 1.9008 - val_accuracy: 0.8969\n",
      "Epoch 24/30\n",
      "45/45 [==============================] - ETA: 0s - loss: 0.1220 - accuracy: 0.8982\n",
      "Epoch 00024: val_accuracy improved from 0.89690 to 0.89931, saving model to ./train_output/seq2seq_kor/weights.h5\n",
      "45/45 [==============================] - 6s 123ms/step - loss: 0.1220 - accuracy: 0.8982 - val_loss: 1.8891 - val_accuracy: 0.8993\n",
      "Epoch 25/30\n"
     ]
    },
    {
     "name": "stdout",
     "output_type": "stream",
     "text": [
      "45/45 [==============================] - ETA: 0s - loss: 0.1703 - accuracy: 0.9004\n",
      "Epoch 00025: val_accuracy improved from 0.89931 to 0.90123, saving model to ./train_output/seq2seq_kor/weights.h5\n",
      "45/45 [==============================] - 5s 122ms/step - loss: 0.1703 - accuracy: 0.9004 - val_loss: 1.8240 - val_accuracy: 0.9012\n",
      "Epoch 26/30\n",
      "45/45 [==============================] - ETA: 0s - loss: 0.1563 - accuracy: 0.9022\n",
      "Epoch 00026: val_accuracy improved from 0.90123 to 0.90306, saving model to ./train_output/seq2seq_kor/weights.h5\n",
      "45/45 [==============================] - 6s 122ms/step - loss: 0.1563 - accuracy: 0.9022 - val_loss: 1.7714 - val_accuracy: 0.9031\n",
      "Epoch 27/30\n",
      "45/45 [==============================] - ETA: 0s - loss: 0.1424 - accuracy: 0.9039\n",
      "Epoch 00027: val_accuracy improved from 0.90306 to 0.90475, saving model to ./train_output/seq2seq_kor/weights.h5\n",
      "45/45 [==============================] - 6s 123ms/step - loss: 0.1424 - accuracy: 0.9039 - val_loss: 1.7339 - val_accuracy: 0.9047\n",
      "Epoch 28/30\n",
      "45/45 [==============================] - ETA: 0s - loss: 0.1215 - accuracy: 0.9056\n",
      "Epoch 00028: val_accuracy improved from 0.90475 to 0.90650, saving model to ./train_output/seq2seq_kor/weights.h5\n",
      "45/45 [==============================] - 5s 122ms/step - loss: 0.1215 - accuracy: 0.9056 - val_loss: 1.7947 - val_accuracy: 0.9065\n",
      "Epoch 29/30\n",
      "45/45 [==============================] - ETA: 0s - loss: 0.1076 - accuracy: 0.9074\n",
      "Epoch 00029: val_accuracy improved from 0.90650 to 0.90818, saving model to ./train_output/seq2seq_kor/weights.h5\n",
      "45/45 [==============================] - 6s 123ms/step - loss: 0.1076 - accuracy: 0.9074 - val_loss: 1.7646 - val_accuracy: 0.9082\n",
      "Epoch 30/30\n",
      "45/45 [==============================] - ETA: 0s - loss: 0.1040 - accuracy: 0.9091\n",
      "Epoch 00030: val_accuracy improved from 0.90818 to 0.90984, saving model to ./train_output/seq2seq_kor/weights.h5\n",
      "45/45 [==============================] - 5s 122ms/step - loss: 0.1040 - accuracy: 0.9091 - val_loss: 1.7630 - val_accuracy: 0.9098\n"
     ]
    }
   ],
   "source": [
    "DATA_OUT_PATH = './train_output/'\n",
    "PATH = DATA_OUT_PATH + MODEL_NAME\n",
    "if not(os.path.isdir(PATH)):\n",
    "        os.makedirs(os.path.join(PATH))\n",
    "        \n",
    "checkpoint_path = DATA_OUT_PATH + MODEL_NAME + '/weights.h5'\n",
    "    \n",
    "cp_callback = ModelCheckpoint(\n",
    "    checkpoint_path, monitor='val_accuracy', verbose=1, save_best_only=True, save_weights_only=True)\n",
    "\n",
    "earlystop_callback = EarlyStopping(monitor='val_accuracy', min_delta=0.0001, patience=10)\n",
    "\n",
    "EPOCH = 30 # 30\n",
    "MAX_DATA = 100\n",
    "history = model.fit([index_inputs[:MAX_DATA], index_outputs[:MAX_DATA]], index_targets[:MAX_DATA],\n",
    "                    batch_size=BATCH_SIZE, epochs=EPOCH,\n",
    "                    validation_split=VALIDATION_SPLIT, callbacks=[earlystop_callback, cp_callback])\n"
   ]
  },
  {
   "cell_type": "code",
   "execution_count": 245,
   "metadata": {},
   "outputs": [],
   "source": [
    "import matplotlib.pyplot as plt \n",
    "\n",
    "def plot_graphs(history, string):\n",
    "    plt.plot(history.history[string])\n",
    "    plt.plot(history.history['val_'+string], '')\n",
    "    plt.xlabel(\"Epochs\")\n",
    "    plt.ylabel(string)\n",
    "    plt.legend([string, 'val_'+string])\n",
    "    plt.show()"
   ]
  },
  {
   "cell_type": "code",
   "execution_count": 246,
   "metadata": {},
   "outputs": [
    {
     "data": {
      "image/png": "[encoded data removed]",
      "text/plain": [
       "<Figure size 432x288 with 1 Axes>"
      ]
     },
     "metadata": {
      "needs_background": "light"
     },
     "output_type": "display_data"
    }
   ],
   "source": [
    "plot_graphs(history, 'accuracy')"
   ]
  },
  {
   "cell_type": "code",
   "execution_count": 247,
   "metadata": {},
   "outputs": [
    {
     "data": {
      "image/png": "[encoded data removed]",
      "text/plain": [
       "<Figure size 432x288 with 1 Axes>"
      ]
     },
     "metadata": {
      "needs_background": "light"
     },
     "output_type": "display_data"
    }
   ],
   "source": [
    "plot_graphs(history, 'loss')"
   ]
  },
  {
   "cell_type": "code",
   "execution_count": 248,
   "metadata": {},
   "outputs": [],
   "source": [
    "SAVE_FILE_NAME = 'weights.h5'\n",
    "model.load_weights(os.path.join(DATA_OUT_PATH, MODEL_NAME, SAVE_FILE_NAME))"
   ]
  },
  {
   "cell_type": "code",
   "execution_count": null,
   "metadata": {},
   "outputs": [],
   "source": []
  }
 ],
 "metadata": {
  "kernelspec": {
   "display_name": "Python (ai)",
   "language": "python",
   "name": "ai"
  },
  "language_info": {
   "codemirror_mode": {
    "name": "ipython",
    "version": 3
   },
   "file_extension": ".py",
   "mimetype": "text/x-python",
   "name": "python",
   "nbconvert_exporter": "python",
   "pygments_lexer": "ipython3",
   "version": "3.6.12"
  },
  "toc": {
   "base_numbering": 1,
   "nav_menu": {},
   "number_sections": true,
   "sideBar": true,
   "skip_h1_title": false,
   "title_cell": "Table of Contents",
   "title_sidebar": "Contents",
   "toc_cell": false,
   "toc_position": {},
   "toc_section_display": true,
   "toc_window_display": false
  }
 },
 "nbformat": 4,
 "nbformat_minor": 4
}
